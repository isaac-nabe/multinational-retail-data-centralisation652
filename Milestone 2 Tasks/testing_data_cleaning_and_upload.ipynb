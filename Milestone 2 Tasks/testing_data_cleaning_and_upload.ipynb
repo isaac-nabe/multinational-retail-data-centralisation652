{
 "cells": [
  {
   "cell_type": "code",
   "execution_count": 1,
   "metadata": {},
   "outputs": [
    {
     "name": "stdout",
     "output_type": "stream",
     "text": [
      "Number of stores: 451\n",
      "Stores data extracted successfully\n",
      "<class 'pandas.core.frame.DataFrame'>\n",
      "RangeIndex: 451 entries, 0 to 450\n",
      "Data columns (total 12 columns):\n",
      " #   Column         Non-Null Count  Dtype \n",
      "---  ------         --------------  ----- \n",
      " 0   index          451 non-null    int64 \n",
      " 1   address        451 non-null    object\n",
      " 2   longitude      451 non-null    object\n",
      " 3   lat            11 non-null     object\n",
      " 4   locality       451 non-null    object\n",
      " 5   store_code     451 non-null    object\n",
      " 6   staff_numbers  451 non-null    object\n",
      " 7   opening_date   451 non-null    object\n",
      " 8   store_type     451 non-null    object\n",
      " 9   latitude       450 non-null    object\n",
      " 10  country_code   451 non-null    object\n",
      " 11  continent      451 non-null    object\n",
      "dtypes: int64(1), object(11)\n",
      "memory usage: 42.4+ KB\n",
      "Store data cleaned successfully\n",
      "<class 'pandas.core.frame.DataFrame'>\n",
      "Index: 441 entries, 0 to 450\n",
      "Data columns (total 11 columns):\n",
      " #   Column         Non-Null Count  Dtype         \n",
      "---  ------         --------------  -----         \n",
      " 0   index          441 non-null    int64         \n",
      " 1   address        441 non-null    object        \n",
      " 2   longitude      440 non-null    float64       \n",
      " 3   locality       441 non-null    object        \n",
      " 4   store_code     441 non-null    object        \n",
      " 5   staff_numbers  441 non-null    float64       \n",
      " 6   opening_date   429 non-null    datetime64[ns]\n",
      " 7   store_type     441 non-null    object        \n",
      " 8   latitude       440 non-null    float64       \n",
      " 9   country_code   441 non-null    object        \n",
      " 10  continent      441 non-null    object        \n",
      "dtypes: datetime64[ns](1), float64(3), int64(1), object(6)\n",
      "memory usage: 41.3+ KB\n",
      "Credentials loaded from db_creds_local.yaml\n",
      "Cleaned store data uploaded successfully to 'dim_store_details' table\n"
     ]
    }
   ],
   "source": [
    "from database_utils import DatabaseConnector\n",
    "from data_extraction import DataExtractor\n",
    "from data_cleaning import DataCleaning\n",
    "from config import number_of_stores_url, store_url_template, API_KEY\n",
    "\n",
    "# Initialize the necessary classes\n",
    "db_connector = DatabaseConnector()\n",
    "data_extractor = DataExtractor()\n",
    "data_cleaning = DataCleaning()\n",
    "\n",
    "# Extract and clean store details\n",
    "headers = {\"x-api-key\": API_KEY}\n",
    "number_of_stores = data_extractor.list_number_of_stores(\n",
    "    number_of_stores_url, headers)\n",
    "print(f\"Number of stores: {number_of_stores}\")\n",
    "stores_df = data_extractor.retrieve_stores_data(\n",
    "    store_url_template, headers, number_of_stores)\n",
    "if not stores_df.empty:\n",
    "    print(\"Stores data extracted successfully\")\n",
    "    stores_df.info()\n",
    "    cleaned_stores_df = data_cleaning.clean_store_data(stores_df)\n",
    "    print(\"Store data cleaned successfully\")\n",
    "    cleaned_stores_df.info()\n",
    "    cleaned_stores_df.to_csv(\"cleaned_stores_data.csv\", index=False)\n",
    "    db_connector.upload_to_db(cleaned_stores_df, 'dim_store_details')\n",
    "    print(\"Cleaned store data uploaded successfully to 'dim_store_details' table\")\n",
    "else:\n",
    "    print(\"Failed to create DataFrame from stores data.\")\n",
    "\n"
   ]
  }
 ],
 "metadata": {
  "kernelspec": {
   "display_name": "multinational-retail-data-centralization-env",
   "language": "python",
   "name": "python3"
  },
  "language_info": {
   "codemirror_mode": {
    "name": "ipython",
    "version": 3
   },
   "file_extension": ".py",
   "mimetype": "text/x-python",
   "name": "python",
   "nbconvert_exporter": "python",
   "pygments_lexer": "ipython3",
   "version": "3.12.4"
  }
 },
 "nbformat": 4,
 "nbformat_minor": 2
}
